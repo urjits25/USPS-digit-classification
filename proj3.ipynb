{
 "cells": [
  {
   "cell_type": "markdown",
   "metadata": {},
   "source": [
    "### Importing General Purpose Libraries and Datasets"
   ]
  },
  {
   "cell_type": "markdown",
   "metadata": {},
   "source": [
    "###### Note: Hyperparameters for corresponsing algorithms are tuned optimally and coded accordingly"
   ]
  },
  {
   "cell_type": "code",
   "execution_count": 1,
   "metadata": {},
   "outputs": [
    {
     "name": "stderr",
     "output_type": "stream",
     "text": [
      "E:\\ProgramFiles\\Anaconda3\\lib\\site-packages\\h5py\\__init__.py:36: FutureWarning: Conversion of the second argument of issubdtype from `float` to `np.floating` is deprecated. In future, it will be treated as `np.float64 == np.dtype(float).type`.\n",
      "  from ._conv import register_converters as _register_converters\n",
      "Using TensorFlow backend.\n"
     ]
    }
   ],
   "source": [
    "# Pickle: Storing Objects (Serialization)\n",
    "import pickle\n",
    "import gzip\n",
    "\n",
    "# Loading USPS dataset\n",
    "from PIL import Image\n",
    "import os\n",
    "import numpy as np\n",
    "\n",
    "# For implementing Multilayer Perceptron Network\n",
    "import keras, time\n",
    "from keras.datasets import mnist\n",
    "from keras.layers import Dense\n",
    "from keras.models import Sequential\n",
    "\n",
    "# For implementing confusion matrix\n",
    "from sklearn.metrics import confusion_matrix"
   ]
  },
  {
   "cell_type": "markdown",
   "metadata": {},
   "source": [
    "### Load MNIST on Python 3.x"
   ]
  },
  {
   "cell_type": "code",
   "execution_count": 2,
   "metadata": {},
   "outputs": [],
   "source": [
    "filename = 'mnist.pkl.gz'\n",
    "f = gzip.open(filename, 'rb')\n",
    "\n",
    "training_data, validation_data, test_data = pickle.load(f, encoding='latin1')\n",
    "f.close()"
   ]
  },
  {
   "cell_type": "code",
   "execution_count": 3,
   "metadata": {},
   "outputs": [],
   "source": [
    "# print(training_data[0].shape, test_data[0].shape , validation_data[0].shape)"
   ]
  },
  {
   "cell_type": "markdown",
   "metadata": {},
   "source": [
    "### Load USPS on Python 3.x"
   ]
  },
  {
   "cell_type": "code",
   "execution_count": 4,
   "metadata": {},
   "outputs": [],
   "source": [
    "USPSMat  = []\n",
    "USPSTar  = []\n",
    "curPath  = 'USPSdata/Numerals'\n",
    "savedImg = []\n",
    "\n",
    "for j in range(0,10):\n",
    "    \n",
    "# - Images in given path are stored in folders with names \"0\" - \"9\"\n",
    "    curFolderPath = curPath + '/' + str(j)\n",
    "    imgs =  os.listdir(curFolderPath)\n",
    "    \n",
    "    for img in imgs:\n",
    "        curImg = curFolderPath + '/' + img\n",
    "        \n",
    "# ----- If given image has a png extension, resize it to 28 X 28\n",
    "        if curImg[-3:] == 'png':\n",
    "            img = Image.open(curImg,'r')\n",
    "            img = img.resize((28, 28))\n",
    "            savedImg = img\n",
    "            \n",
    "# --------- Normalize and invert colors\n",
    "            imgdata = (255-np.array(img.getdata()))/255\n",
    "\n",
    "# --------- Create Input and Output Vectors\n",
    "            USPSMat.append(imgdata)\n",
    "            USPSTar.append(j)"
   ]
  },
  {
   "cell_type": "code",
   "execution_count": 5,
   "metadata": {},
   "outputs": [],
   "source": [
    "USPSMat = np.asarray(USPSMat)\n",
    "USPSTar = np.asarray(USPSTar)\n",
    "\n",
    "# One-hot encoding \n",
    "USPSMat = USPSMat.reshape(USPSMat.shape[0], -1)\n",
    "USPSTar_NN = keras.utils.to_categorical(USPSTar, 10)"
   ]
  },
  {
   "cell_type": "code",
   "execution_count": 6,
   "metadata": {},
   "outputs": [],
   "source": [
    "# print(USPSTar_NN.shape)"
   ]
  },
  {
   "cell_type": "markdown",
   "metadata": {},
   "source": [
    "# DEEP NEURAL NETWORK"
   ]
  },
  {
   "cell_type": "markdown",
   "metadata": {},
   "source": [
    "### Training on MNIST dataset"
   ]
  },
  {
   "cell_type": "code",
   "execution_count": 7,
   "metadata": {},
   "outputs": [],
   "source": [
    "################### Tunable Hyperparamters ###################\n",
    "\n",
    "# units: number of nodes\n",
    "# number of hidden layers, their units & activation function\n",
    "# optimizer\n",
    "# batch size\n",
    "# epochs\n",
    "\n",
    "##############################################################\n",
    "\n",
    "startNNMNIST = time.clock()\n",
    "(x_train, y_train), (x_test, y_test) = mnist.load_data()\n",
    "num_classes=10\n",
    "image_vector_size=28*28\n",
    "\n",
    "x_train = x_train.reshape(x_train.shape[0], image_vector_size)\n",
    "x_test = x_test.reshape(x_test.shape[0], image_vector_size)\n",
    "\n",
    "y_train = keras.utils.to_categorical(y_train, num_classes)\n",
    "y_test = keras.utils.to_categorical(y_test, num_classes)\n",
    "\n",
    "image_size = 784\n",
    "model = Sequential()\n",
    "\n",
    "# Input Layer\n",
    "model.add(Dense(units=256, activation='sigmoid', \n",
    "                input_shape=(image_size,)))\n",
    "\n",
    "# Hidden Layer 1\n",
    "model.add(Dense(units=208, activation='tanh'))\n",
    "\n",
    "#Hidden Layer 2\n",
    "model.add(Dense(units=208, activation='relu'))\n",
    "\n",
    "#Hidden Layer 3\n",
    "model.add(Dense(units=208, activation='relu'))\n",
    "\n",
    "# Output Layer\n",
    "model.add(Dense(units=num_classes, activation='softmax'))\n",
    "\n",
    "# Add optimizers, loss functions and metrics\n",
    "model.compile(optimizer='adadelta', \n",
    "              loss='categorical_crossentropy',\n",
    "              metrics=['accuracy'])\n",
    "\n",
    "# Training data using MNIST dataset\n",
    "history = model.fit(x_train, y_train, \n",
    "                    batch_size=64, \n",
    "                    epochs=50, \n",
    "                    verbose=False,\n",
    "                    validation_split=.1)\n",
    "\n",
    "time_train_NN = time.clock() - startNNMNIST"
   ]
  },
  {
   "cell_type": "markdown",
   "metadata": {},
   "source": [
    "### Testing on MNIST dataset"
   ]
  },
  {
   "cell_type": "code",
   "execution_count": 8,
   "metadata": {},
   "outputs": [],
   "source": [
    "startNNMNIST = time.clock()\n",
    "predNNMNIST = model.predict(x_test)\n",
    "time_testMNIST = time.clock() - startNNMNIST\n",
    "\n",
    "# Confusion Matrix for Neural Network on MNIST dataset\n",
    "matrixNNMNIST = confusion_matrix(y_test.argmax(axis=1), \n",
    "                                 predNNMNIST.argmax(axis=1))\n",
    "\n",
    "# Evaluating metrics\n",
    "loss1,accuracy1 = model.evaluate(x_test, y_test, \n",
    "                                 verbose=False)"
   ]
  },
  {
   "cell_type": "markdown",
   "metadata": {},
   "source": [
    "### Testing on USPS dataset"
   ]
  },
  {
   "cell_type": "code",
   "execution_count": 9,
   "metadata": {},
   "outputs": [],
   "source": [
    "# Testing on USPS data\n",
    "startNNUSPS = time.clock()\n",
    "predNNUSPS = model.predict(USPSMat)\n",
    "time_testUSPS = time.clock() - startNNUSPS\n",
    "\n",
    "# Confusion Matrix for Neural Network on USPS dataset\n",
    "matrixNNUSPS = confusion_matrix(USPSTar_NN.argmax(axis=1), \n",
    "                                predNNUSPS.argmax(axis=1))\n",
    "\n",
    "# Evaluating metrics\n",
    "loss2, accuracy2 = model.evaluate(USPSMat, USPSTar_NN, \n",
    "                                  verbose=False)"
   ]
  },
  {
   "cell_type": "markdown",
   "metadata": {},
   "source": [
    "### Printing Results"
   ]
  },
  {
   "cell_type": "code",
   "execution_count": 10,
   "metadata": {},
   "outputs": [
    {
     "name": "stdout",
     "output_type": "stream",
     "text": [
      "Training Time: 188.65216 s\n",
      "Testing Time (MNIST): 0.27204 s\n",
      "Confusion Matrix (MNIST):\n",
      "[[ 974    0    1    1    0    1    1    1    0    1]\n",
      " [   0 1124    0    1    0    0    2    0    7    1]\n",
      " [   4    0 1005    5    3    1    3    6    5    0]\n",
      " [   0    0    4  992    1    4    0    3    5    1]\n",
      " [   0    0    3    2  960    0    4    1    1   11]\n",
      " [   1    0    0   13    0  869    5    0    3    1]\n",
      " [   5    2    0    0    5    5  936    0    4    1]\n",
      " [   1    1    9    7    0    0    0  995    2   13]\n",
      " [   1    0    2    4    2    4    0    3  955    3]\n",
      " [   1    2    0    5    7    4    0    2    4  984]]\n",
      "Accuracy: 97.94 %\n",
      "\n",
      "\n",
      "Testing Time (USPS): 0.42708 s\n",
      "Confusion Matrix (USPS):\n",
      "[[ 150    0    8  168  208  524    1   13  111  817]\n",
      " [   8    4    1   23  124   79    1    1  612 1147]\n",
      " [   2   12   58  173  265  467    0    6  312  704]\n",
      " [   0    4    1  900   17  460    0    1  251  366]\n",
      " [   2    1    0   70  309  149    0   41  602  826]\n",
      " [   6    7    7   49   68 1428    1    6  119  309]\n",
      " [  64    3    8   58  452  887   19    9  134  366]\n",
      " [   2    1    0  166   56  206    0    8  693  868]\n",
      " [   0    3    2  185  122  357    0   12  887  432]\n",
      " [   4    2    3  114   82  127    0   15  319 1334]]\n",
      "Accuracy: 25.48627430984119 %\n"
     ]
    }
   ],
   "source": [
    "print(\"Training Time: %.5f s\" % time_train_NN)\n",
    "print(\"Testing Time (MNIST): %.5f s\" % time_testMNIST)\n",
    "print(\"Confusion Matrix (MNIST):\")\n",
    "print(matrixNNMNIST)\n",
    "print(\"Accuracy: \" + str(accuracy1*100) + \" %\\n\\n\")\n",
    "\n",
    "print(\"Testing Time (USPS): %.5f s\" % time_testUSPS)\n",
    "print(\"Confusion Matrix (USPS):\")\n",
    "print(matrixNNUSPS)\n",
    "print(\"Accuracy: \" + str(accuracy2*100) + \" %\")"
   ]
  },
  {
   "cell_type": "markdown",
   "metadata": {},
   "source": [
    "## Importing Libraries for SVM and Random Forest"
   ]
  },
  {
   "cell_type": "code",
   "execution_count": 11,
   "metadata": {},
   "outputs": [],
   "source": [
    "import numpy as np\n",
    "from sklearn.svm import SVC\n",
    "from sklearn.ensemble import RandomForestClassifier\n",
    "from sklearn.datasets import fetch_mldata\n",
    "mnist = fetch_mldata('MNIST original')\n",
    "from sklearn.metrics import accuracy_score\n",
    "\n",
    "# indices = np.arange(len(mnist.data))\n",
    "# print(indices) ---> [0, 1, 2 ... 69997, 69998, 69999]\n",
    "\n",
    "X_train, y_train = training_data\n",
    "X_test, y_test = test_data\n",
    "X_val, y_val = validation_data"
   ]
  },
  {
   "cell_type": "markdown",
   "metadata": {},
   "source": [
    "# SVM"
   ]
  },
  {
   "cell_type": "code",
   "execution_count": 12,
   "metadata": {},
   "outputs": [],
   "source": [
    "################### Tunable Hyperparamters ###################\n",
    "\n",
    "# kernel\n",
    "# C: Penalty parameter of error term\n",
    "# gamma: kernel coefficient\n",
    "\n",
    "##############################################################\n",
    "'''\n",
    "# Case 1\n",
    "classifier1 = SVC(kernel='linear')\n",
    "\n",
    "# Case 2\n",
    "classifier1 = SVC(kernel='rbf', gamma=1)\n",
    "\n",
    "'''\n",
    "# Case 3\n",
    "classifier1 = SVC(kernel='rbf')\n",
    "\n",
    "# Training on MNIST dataset\n",
    "startSVMMNIST = time.clock()\n",
    "classifier1.fit(X_train[:20000], y_train[:20000])\n",
    "time_train_SVM = time.clock() - startSVMMNIST"
   ]
  },
  {
   "cell_type": "code",
   "execution_count": 13,
   "metadata": {},
   "outputs": [],
   "source": [
    "# Testing on MNIST dataset\n",
    "startSVMMNIST = time.clock()\n",
    "predSVMMNIST = classifier1.predict(X_test)\n",
    "time_testMNIST = time.clock() - startSVMMNIST\n",
    "\n",
    "# Testing on MNIST validation dataset\n",
    "startSVMMNIST = time.clock()\n",
    "predSVMMNIST_val = classifier1.predict(X_val)\n",
    "time_valMNIST = time.clock() - startSVMMNIST\n",
    "\n",
    "# Evaluating accuracy and confusion matrix\n",
    "matrixSVMMNIST = confusion_matrix(y_test, predSVMMNIST)\n",
    "\n",
    "accuracy3 = accuracy_score(y_test, predSVMMNIST)"
   ]
  },
  {
   "cell_type": "code",
   "execution_count": 14,
   "metadata": {},
   "outputs": [],
   "source": [
    "# USPS dataset \n",
    "startSVMUSPS = time.clock()\n",
    "predSVMUSPS = classifier1.predict(USPSMat)\n",
    "time_testUSPS = time.clock() - startSVMUSPS\n",
    "\n",
    "# Evaluating accuracy and confusion matrix\n",
    "matrixSVMUSPS = confusion_matrix(USPSTar, predSVMUSPS)\n",
    "\n",
    "accuracy4 = accuracy_score(USPSTar, predSVMUSPS)"
   ]
  },
  {
   "cell_type": "code",
   "execution_count": 15,
   "metadata": {},
   "outputs": [
    {
     "name": "stdout",
     "output_type": "stream",
     "text": [
      "Training Time: 110.17562 s\n",
      "Testing Time (MNIST): 76.22220 s\n",
      "Confusion Matrix (MNIST):\n",
      "[[ 966    0    1    0    1    5    5    1    1    0]\n",
      " [   0 1118    3    2    0    1    4    1    6    0]\n",
      " [   9    2  934   10   14    2   18   14   27    2]\n",
      " [   2    2   19  932    1   21    1   11   17    4]\n",
      " [   1    4    7    0  919    0   10    3    2   36]\n",
      " [   7    6    5   36    9  795   14    4   11    5]\n",
      " [  10    3    5    1    6   14  918    0    1    0]\n",
      " [   3   17   23    4   10    1    0  939    4   27]\n",
      " [   4    8    8   18    8   28   11    8  873    8]\n",
      " [  10    9    1   12   39    7    1   13    6  911]]\n",
      "Accuracy: 93.05 %\n",
      "\n",
      "\n",
      "Testing Time (USPS): 155.53797 s\n",
      "Confusion Matrix (USPS):\n",
      "[[ 565    4  409   18  336  223   77   37   11  320]\n",
      " [  98  455  240  124  417  190   46  397   19   14]\n",
      " [ 107   23 1345   70   48  213   67   84   31   11]\n",
      " [  71    7  164 1118   15  506    6   63   27   23]\n",
      " [  18   95   62   16 1238  245   16  162   64   84]\n",
      " [ 137   20  188  100   34 1371   69   52   18   11]\n",
      " [ 236    8  441   31  115  377  740   14   13   25]\n",
      " [  49  262  393  245   86  407   28  440   57   33]\n",
      " [ 114   32  193  186  119  927   97   40  249   43]\n",
      " [  33  197  189  255  277  163   13  486  205  182]]\n",
      "Accuracy: 38.51692584629232 %\n"
     ]
    }
   ],
   "source": [
    "print(\"Training Time: %.5f s\" % time_train_SVM)\n",
    "print(\"Testing Time (MNIST): %.5f s\" % time_testMNIST)\n",
    "print(\"Confusion Matrix (MNIST):\")\n",
    "print(matrixSVMMNIST)\n",
    "print(\"Accuracy: \" + str(accuracy3*100) + \" %\\n\\n\")\n",
    "\n",
    "print(\"Testing Time (USPS): %.5f s\" % time_testUSPS)\n",
    "print(\"Confusion Matrix (USPS):\")\n",
    "print(matrixSVMUSPS)\n",
    "print(\"Accuracy: \" + str(accuracy4*100) + \" %\")"
   ]
  },
  {
   "cell_type": "markdown",
   "metadata": {},
   "source": [
    "# RANDOM FOREST"
   ]
  },
  {
   "cell_type": "code",
   "execution_count": 16,
   "metadata": {},
   "outputs": [],
   "source": [
    "########### Tunable Hyperparameters ###########\n",
    "\n",
    "# n_estimators: number of trees\n",
    "# max_depth, max_leaf_nodes, class_weight, etc\n",
    "\n",
    "##############################################\n",
    "\n",
    "classifier2 = RandomForestClassifier(n_estimators=1000)\n",
    "\n",
    "# MNIST dataset\n",
    "startRFMNIST = time.clock()\n",
    "classifier2.fit(X_train, y_train)\n",
    "time_train_RF = time.clock() - startRFMNIST"
   ]
  },
  {
   "cell_type": "code",
   "execution_count": 17,
   "metadata": {},
   "outputs": [],
   "source": [
    "# Testing on MNIST dataset\n",
    "startRFMNIST = time.clock()\n",
    "predRFMNIST = classifier2.predict(X_test)\n",
    "time_testMNIST = time.clock() - startRFMNIST\n",
    "\n",
    "# Evaluating accuracy and confusion matrix\n",
    "matrixRFMNIST = confusion_matrix(y_test, predRFMNIST)\n",
    "\n",
    "accuracy5 = accuracy_score(y_test, predRFMNIST)"
   ]
  },
  {
   "cell_type": "code",
   "execution_count": 18,
   "metadata": {},
   "outputs": [],
   "source": [
    "# USPS dataset\n",
    "startRFUSPS = time.clock()\n",
    "predRFUSPS = classifier2.predict(USPSMat)\n",
    "time_testUSPS = time.clock() - startRFUSPS\n",
    "\n",
    "# Evaluating accuracy and confusion matrix\n",
    "matrixRFUSPS = confusion_matrix(USPSTar, predRFUSPS)\n",
    "\n",
    "accuracy6 = accuracy_score(USPSTar, predRFUSPS)"
   ]
  },
  {
   "cell_type": "code",
   "execution_count": 19,
   "metadata": {},
   "outputs": [
    {
     "name": "stdout",
     "output_type": "stream",
     "text": [
      "Training Time: 273.89514 s\n",
      "Testing Time (MNIST): 4.22343 s\n",
      "Confusion Matrix: \n",
      "[[ 968    0    1    0    0    3    4    1    3    0]\n",
      " [   0 1124    2    3    0    1    3    0    1    1]\n",
      " [   6    0 1000    5    3    0    4    8    6    0]\n",
      " [   0    0   12  973    0    5    0    9    8    3]\n",
      " [   1    0    2    0  956    0    4    0    2   17]\n",
      " [   3    0    0   14    3  857    6    2    5    2]\n",
      " [   5    3    0    0    2    4  942    0    2    0]\n",
      " [   1    2   18    1    0    0    0  995    1   10]\n",
      " [   5    0    5    8    4    5    4    4  929   10]\n",
      " [   5    5    2   10   10    2    1    4    6  964]]\n",
      "Accuracy: 97.08 %\n",
      "\n",
      "\n",
      "Testing Time (USPS): 6.05859 s\n",
      "Confusion Matrix: \n",
      "[[ 651   12  278   67  438  149   56  100    0  249]\n",
      " [  46  570  114  107   41   95   21  991   14    1]\n",
      " [  91   26 1289   67   50  189   15  265    6    1]\n",
      " [  34    6   89 1327   48  293    2  178    4   19]\n",
      " [  13  208   55   25 1075  174   15  398   20   17]\n",
      " [ 138   28  129   68   20 1480   18  109    6    4]\n",
      " [ 294   45  223   28   75  356  837  128    2   12]\n",
      " [  42  329  368  244   38  244   29  696    2    8]\n",
      " [  43   41  151  204   93 1131   55   96  172   14]\n",
      " [  17  271  213  313  243  123    8  625   89   98]]\n",
      "Accuracy: 40.97704885244262 %\n"
     ]
    }
   ],
   "source": [
    "print(\"Training Time: %.5f s\" % time_train_RF)\n",
    "print(\"Testing Time (MNIST): %.5f s\" % time_testMNIST)\n",
    "print(\"Confusion Matrix: \")\n",
    "print(matrixRFMNIST)\n",
    "print(\"Accuracy: \" + str(accuracy5*100) + \" %\\n\\n\")\n",
    "\n",
    "print(\"Testing Time (USPS): %.5f s\" % time_testUSPS)\n",
    "print(\"Confusion Matrix: \")\n",
    "print(matrixRFUSPS)\n",
    "print(\"Accuracy: \" + str(accuracy6*100) + \" %\")"
   ]
  },
  {
   "cell_type": "markdown",
   "metadata": {},
   "source": [
    "# ENSEMBLE"
   ]
  },
  {
   "cell_type": "code",
   "execution_count": 20,
   "metadata": {},
   "outputs": [],
   "source": [
    "# For majority voting method\n",
    "from scipy import stats"
   ]
  },
  {
   "cell_type": "code",
   "execution_count": 21,
   "metadata": {},
   "outputs": [],
   "source": [
    "# Converting from one-hot encoding to class labels\n",
    "predNNMNIST = predNNMNIST.argmax(axis=1)\n",
    "predNNUSPS = predNNUSPS.argmax(axis=1)\n",
    "\n",
    "########## Other predictions used in ensemble ##########\n",
    "\n",
    "# predRFMNIST, predRFUSPS, predSVMMNIST, predSVMUSPS\n",
    "\n",
    "########################################################"
   ]
  },
  {
   "cell_type": "code",
   "execution_count": 22,
   "metadata": {},
   "outputs": [
    {
     "name": "stdout",
     "output_type": "stream",
     "text": [
      "(10000,) (10000,) (10000,)\n"
     ]
    }
   ],
   "source": [
    "# Combining predictions from classification algorithms\n",
    "predMNIST_stacked = np.vstack((predNNMNIST, predRFMNIST, predSVMMNIST))\n",
    "predUSPS_stacked = np.vstack((predNNUSPS, predRFUSPS, predSVMUSPS))\n",
    "\n",
    "# Majority Voting - Most Frequent Class is selected\n",
    "predMNIST = np.ravel(stats.mode(predMNIST_stacked).mode)\n",
    "predUSPS = np.ravel(stats.mode(predUSPS_stacked).mode)"
   ]
  },
  {
   "cell_type": "markdown",
   "metadata": {},
   "source": [
    "### Ensemble classifier metrics"
   ]
  },
  {
   "cell_type": "code",
   "execution_count": 23,
   "metadata": {},
   "outputs": [],
   "source": [
    "# Takes results from Neural Networks, SVM and Random Forest\n",
    "# Calculates class mode for every instance and assigns value\n",
    "# Final class = Most frequently classified class for that instance\n",
    "\n",
    "accuracy7 = accuracy_score(y_test, predMNIST)\n",
    "matrixMNIST = confusion_matrix(y_test, predMNIST)\n",
    "\n",
    "accuracy8 = accuracy_score(USPSTar, predUSPS)\n",
    "matrixUSPS = confusion_matrix(USPSTar, predUSPS)"
   ]
  },
  {
   "cell_type": "code",
   "execution_count": 24,
   "metadata": {},
   "outputs": [
    {
     "name": "stdout",
     "output_type": "stream",
     "text": [
      "Confusion Matrix: \n",
      "[[ 970    0    1    0    0    4    3    1    1    0]\n",
      " [   0 1124    2    2    0    1    3    0    3    0]\n",
      " [   6    1  997    4    4    0    4   10    6    0]\n",
      " [   0    1    8  979    0    6    0    8    6    2]\n",
      " [   1    0    2    0  956    0    6    0    2   15]\n",
      " [   3    0    1   16    2  859    5    1    4    1]\n",
      " [   8    3    1    1    4    6  933    0    2    0]\n",
      " [   2    6   16    3    0    0    0  992    1    8]\n",
      " [   5    0    4   10    4    6    3    3  933    6]\n",
      " [   9    7    1   12   11    3    1    2    1  962]]\n",
      "Accuracy: 97.05 %\n",
      "\n",
      "\n",
      "Confusion Matrix: \n",
      "[[ 660   12  342   81  354  184   35   27    2  303]\n",
      " [ 100  579  196  133  394  154   38  376   20   10]\n",
      " [ 125   37 1405   77   48  195   13   84    8    7]\n",
      " [  60   11  145 1336   19  360    1   50    8   10]\n",
      " [  17  193   70   35 1199  214    5  168   47   52]\n",
      " [ 139   31  148   65   32 1520   10   44    6    5]\n",
      " [ 319   43  402   35  146  407  623   11    5    9]\n",
      " [  59  364  400  294   76  306   19  424   37   21]\n",
      " [  80   49  210  240  121  962   40   35  232   31]\n",
      " [  35  286  223  358  259  132    5  414  107  181]]\n",
      "Accuracy: 40.7970398519926 %\n"
     ]
    }
   ],
   "source": [
    "print(\"Confusion Matrix: \")\n",
    "print(matrixMNIST)\n",
    "print(\"Accuracy: \" + str(accuracy7*100) + \" %\\n\\n\")\n",
    "\n",
    "print(\"Confusion Matrix: \")\n",
    "print(matrixUSPS)\n",
    "print(\"Accuracy: \" + str(accuracy8*100) + \" %\")"
   ]
  },
  {
   "cell_type": "code",
   "execution_count": 25,
   "metadata": {},
   "outputs": [
    {
     "data": {
      "text/plain": [
       "'\\nREFERENCES:\\n1. What is the best Keras model for multi-class classification?: \\nhttps://datascience.stackexchange.com/questions/10048/what-is-the-best-keras-model-for-multi-class-classification\\n\\n2. Multi-Class Classification Tutorial with the Keras Deep Learning Library:\\nhttps://machinelearningmastery.com/multi-class-classification-tutorial-keras-deep-learning-library/\\n\\n3. Confusion Matrix in Machine Learning: \\nhttps://www.geeksforgeeks.org/confusion-matrix-machine-learning/\\n\\n4. Keras Documentation: \\nhttps://keras.io\\n\\n5. Simple Confusion Matrix Guide: \\nhttps://www.dataschool.io/simple-guide-to-confusion-matrix-terminology/\\n\\n6. Get a Confusion Matrix from a Keras Multiclass Model: \\nhttps://stackoverflow.com/questions/50920908/get-confusion-matrix-from-a-keras-multiclass-model\\n\\n7. Sci-kit Documentation: \\nhttps://scikit-learn.org\\n\\n8. How much time does SVM classifier take to train?:\\nhttps://stackoverflow.com/questions/18165213/how-much-time-does-take-train-svm-classifier\\n'"
      ]
     },
     "execution_count": 25,
     "metadata": {},
     "output_type": "execute_result"
    }
   ],
   "source": [
    "'''\n",
    "REFERENCES:\n",
    "1. What is the best Keras model for multi-class classification?: \n",
    "https://datascience.stackexchange.com/questions/10048/what-is-the-best-keras-model-for-multi-class-classification\n",
    "\n",
    "2. Multi-Class Classification Tutorial with the Keras Deep Learning Library:\n",
    "https://machinelearningmastery.com/multi-class-classification-tutorial-keras-deep-learning-library/\n",
    "\n",
    "3. Confusion Matrix in Machine Learning: \n",
    "https://www.geeksforgeeks.org/confusion-matrix-machine-learning/\n",
    "\n",
    "4. Keras Documentation: \n",
    "https://keras.io\n",
    "\n",
    "5. Simple Confusion Matrix Guide: \n",
    "https://www.dataschool.io/simple-guide-to-confusion-matrix-terminology/\n",
    "\n",
    "6. Get a Confusion Matrix from a Keras Multiclass Model: \n",
    "https://stackoverflow.com/questions/50920908/get-confusion-matrix-from-a-keras-multiclass-model\n",
    "\n",
    "7. Sci-kit Documentation: \n",
    "https://scikit-learn.org\n",
    "\n",
    "8. How much time does SVM classifier take to train?:\n",
    "https://stackoverflow.com/questions/18165213/how-much-time-does-take-train-svm-classifier\n",
    "'''"
   ]
  }
 ],
 "metadata": {
  "kernelspec": {
   "display_name": "Python [conda env:Anaconda3]",
   "language": "python",
   "name": "conda-env-Anaconda3-py"
  },
  "language_info": {
   "codemirror_mode": {
    "name": "ipython",
    "version": 3
   },
   "file_extension": ".py",
   "mimetype": "text/x-python",
   "name": "python",
   "nbconvert_exporter": "python",
   "pygments_lexer": "ipython3",
   "version": "3.6.5"
  }
 },
 "nbformat": 4,
 "nbformat_minor": 2
}
